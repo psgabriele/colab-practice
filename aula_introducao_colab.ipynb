{
  "nbformat": 4,
  "nbformat_minor": 0,
  "metadata": {
    "colab": {
      "provenance": [],
      "collapsed_sections": [],
      "authorship_tag": "ABX9TyM5ZEM5Qmtoc3t/IwLzoClp",
      "include_colab_link": true
    },
    "kernelspec": {
      "name": "python3",
      "display_name": "Python 3"
    },
    "language_info": {
      "name": "python"
    }
  },
  "cells": [
    {
      "cell_type": "markdown",
      "metadata": {
        "id": "view-in-github",
        "colab_type": "text"
      },
      "source": [
        "<a href=\"https://colab.research.google.com/github/psgabriele/colab-practice/blob/main/aula_introducao_colab.ipynb\" target=\"_parent\"><img src=\"https://colab.research.google.com/assets/colab-badge.svg\" alt=\"Open In Colab\"/></a>"
      ]
    },
    {
      "cell_type": "markdown",
      "source": [
        "# Introdução ao COLAB"
      ],
      "metadata": {
        "id": "Q40Bx8eBNx0x"
      }
    },
    {
      "cell_type": "markdown",
      "source": [
        "## Demonstração"
      ],
      "metadata": {
        "id": "BDoVpj8OOQCb"
      }
    },
    {
      "cell_type": "code",
      "source": [
        "a = 3\n",
        "b = 4\n",
        "\n",
        "a + b"
      ],
      "metadata": {
        "colab": {
          "base_uri": "https://localhost:8080/"
        },
        "id": "X6AHOt-NOYQv",
        "outputId": "bd2d4a68-004a-4957-e5fa-33b285173254"
      },
      "execution_count": null,
      "outputs": [
        {
          "output_type": "execute_result",
          "data": {
            "text/plain": [
              "7"
            ]
          },
          "metadata": {},
          "execution_count": 4
        }
      ]
    },
    {
      "cell_type": "markdown",
      "source": [
        "### Criando funções"
      ],
      "metadata": {
        "id": "DDgRRYJTOtNy"
      }
    },
    {
      "cell_type": "code",
      "source": [
        "# função que realiza a soma de dois números\n",
        "def soma(numero1, numero2): \n",
        "  resultado = numero1 + numero2\n",
        "  return print(f'O resultado dessa operação é: {resultado}')"
      ],
      "metadata": {
        "id": "WrvEihJSOwaJ"
      },
      "execution_count": null,
      "outputs": []
    },
    {
      "cell_type": "code",
      "source": [
        "def multiplica(numero1, numero2): \n",
        "  resultado = numero1 * numero2\n",
        "  return print(f'O resultado dessa operação é: {resultado}')"
      ],
      "metadata": {
        "id": "QWlqFNpFPwDg"
      },
      "execution_count": null,
      "outputs": []
    },
    {
      "cell_type": "code",
      "source": [
        "soma(2, 8)"
      ],
      "metadata": {
        "colab": {
          "base_uri": "https://localhost:8080/"
        },
        "id": "gw9zjlJdPHIF",
        "outputId": "6db58e42-1eaa-4fd5-8763-e4e224d5a0e9"
      },
      "execution_count": null,
      "outputs": [
        {
          "output_type": "stream",
          "name": "stdout",
          "text": [
            "O resultado dessa operação é: 10\n"
          ]
        }
      ]
    },
    {
      "cell_type": "code",
      "source": [
        "multiplica(15, 3)"
      ],
      "metadata": {
        "colab": {
          "base_uri": "https://localhost:8080/"
        },
        "id": "XcjzJGgNQDiC",
        "outputId": "6669c4b9-8b68-416b-9eb3-e362a387b503"
      },
      "execution_count": null,
      "outputs": [
        {
          "output_type": "stream",
          "name": "stdout",
          "text": [
            "O resultado dessa operação é: 45\n"
          ]
        }
      ]
    }
  ]
}